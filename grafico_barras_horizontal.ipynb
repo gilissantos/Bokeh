{
  "nbformat": 4,
  "nbformat_minor": 0,
  "metadata": {
    "colab": {
      "name": "grafico_barras_horizontal_matplotlib.ipynb",
      "provenance": [],
      "toc_visible": true,
      "mount_file_id": "1-GWU6NaXSnDLmZGMI51erV0p7kyOsfE3",
      "authorship_tag": "ABX9TyNi9G/1u831mPeCV3U2SJgu",
      "include_colab_link": true
    },
    "kernelspec": {
      "name": "python3",
      "display_name": "Python 3"
    }
  },
  "cells": [
    {
      "cell_type": "markdown",
      "metadata": {
        "id": "view-in-github",
        "colab_type": "text"
      },
      "source": [
        "<a href=\"https://colab.research.google.com/github/gilissantos/Bokeh---Python/blob/master/grafico_barras_horizontal.ipynb\" target=\"_parent\"><img src=\"https://colab.research.google.com/assets/colab-badge.svg\" alt=\"Open In Colab\"/></a>"
      ]
    },
    {
      "cell_type": "markdown",
      "metadata": {
        "id": "6_aDcz0_Rqed",
        "colab_type": "text"
      },
      "source": [
        "<h1 align=\"center\">Gráfico de Barras horizontal com Python/Matplotlib</h1>\n",
        "<br>\n",
        "<p>\n",
        "O gráfico de barras horizontal é simplificado com a bliboteca Matplotlib. Neste exemplo vamos criar um Data Frame da receita de grandes marcas/empresas, utilizado para mostrar o valor de uma determinada categoria.\n",
        "\n",
        "Para maiores informações sobre o gráfico de barras, visite a página <a href=\"https://matplotlib.org/3.2.1/api/_as_gen/matplotlib.pyplot.bar.html\">oficial da biblioteca Matplotlib</a>. Vamos ao código!\n",
        "</p>"
      ]
    },
    {
      "cell_type": "code",
      "metadata": {
        "id": "w1CrXc3-R92C",
        "colab_type": "code",
        "colab": {}
      },
      "source": [
        "# Importando as bibliotecas Mataplotlib e Pandas\n",
        "import pandas as pd\n",
        "import matplotlib.pyplot as plt"
      ],
      "execution_count": 0,
      "outputs": []
    },
    {
      "cell_type": "code",
      "metadata": {
        "id": "Bg7FZGaMSD1P",
        "colab_type": "code",
        "colab": {}
      },
      "source": [
        "# Para este exemplo vamos utlizar uma quadro de dados com as receitas de 5 marcas:\n",
        "\n",
        "receita = {\n",
        "    \"marca\": [\"apple\", \"google\", \"microsoft\", \"amazon\", \"facebook\"],\n",
        "    \"receita\": [205.5, 167.7, 125.3, 88.9, 97]\n",
        "}"
      ],
      "execution_count": 0,
      "outputs": []
    },
    {
      "cell_type": "code",
      "metadata": {
        "id": "ZfN4jDRkSHr1",
        "colab_type": "code",
        "colab": {
          "base_uri": "https://localhost:8080/",
          "height": 204
        },
        "outputId": "ad6b980a-a2e3-43c3-f762-b58dcf58f584"
      },
      "source": [
        "# Vamos transforma o objeto vendas em um data frame e chamá-lo de df:\n",
        "\n",
        "df = pd.DataFrame(receita)\n",
        "\n",
        "df"
      ],
      "execution_count": 3,
      "outputs": [
        {
          "output_type": "execute_result",
          "data": {
            "text/html": [
              "<div>\n",
              "<style scoped>\n",
              "    .dataframe tbody tr th:only-of-type {\n",
              "        vertical-align: middle;\n",
              "    }\n",
              "\n",
              "    .dataframe tbody tr th {\n",
              "        vertical-align: top;\n",
              "    }\n",
              "\n",
              "    .dataframe thead th {\n",
              "        text-align: right;\n",
              "    }\n",
              "</style>\n",
              "<table border=\"1\" class=\"dataframe\">\n",
              "  <thead>\n",
              "    <tr style=\"text-align: right;\">\n",
              "      <th></th>\n",
              "      <th>marca</th>\n",
              "      <th>receita</th>\n",
              "    </tr>\n",
              "  </thead>\n",
              "  <tbody>\n",
              "    <tr>\n",
              "      <th>0</th>\n",
              "      <td>apple</td>\n",
              "      <td>205.5</td>\n",
              "    </tr>\n",
              "    <tr>\n",
              "      <th>1</th>\n",
              "      <td>google</td>\n",
              "      <td>167.7</td>\n",
              "    </tr>\n",
              "    <tr>\n",
              "      <th>2</th>\n",
              "      <td>microsoft</td>\n",
              "      <td>125.3</td>\n",
              "    </tr>\n",
              "    <tr>\n",
              "      <th>3</th>\n",
              "      <td>amazon</td>\n",
              "      <td>88.9</td>\n",
              "    </tr>\n",
              "    <tr>\n",
              "      <th>4</th>\n",
              "      <td>facebook</td>\n",
              "      <td>97.0</td>\n",
              "    </tr>\n",
              "  </tbody>\n",
              "</table>\n",
              "</div>"
            ],
            "text/plain": [
              "       marca  receita\n",
              "0      apple    205.5\n",
              "1     google    167.7\n",
              "2  microsoft    125.3\n",
              "3     amazon     88.9\n",
              "4   facebook     97.0"
            ]
          },
          "metadata": {
            "tags": []
          },
          "execution_count": 3
        }
      ]
    },
    {
      "cell_type": "code",
      "metadata": {
        "id": "ccKgfUDeSOkp",
        "colab_type": "code",
        "colab": {
          "base_uri": "https://localhost:8080/",
          "height": 366
        },
        "outputId": "40c188c1-88c6-47b5-ab4d-e00cf5790c9e"
      },
      "source": [
        "# Vamos criar o gráfico de barras:\n",
        "\n",
        "fig = plt.figure()\n",
        "ax = fig.add_axes([0,0,1,1])\n",
        "ax.barh(df[\"marca\"], df[\"receita\"], color=\"lightseagreen\")\n",
        "ax.set_title(\"Top 5 receitas - Marcas\")\n",
        "ax.set_xlabel(\"Marcas\")\n",
        "ax.set_ylabel(\"USD - Bilhões\")\n",
        "plt.show()"
      ],
      "execution_count": 9,
      "outputs": [
        {
          "output_type": "display_data",
          "data": {
            "image/png": "[encoded data removed]",
            "text/plain": [
              "<Figure size 432x288 with 1 Axes>"
            ]
          },
          "metadata": {
            "tags": [],
            "needs_background": "light"
          }
        }
      ]
    }
  ]
}