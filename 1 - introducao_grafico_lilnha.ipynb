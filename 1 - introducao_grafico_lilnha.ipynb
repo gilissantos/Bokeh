# Importando a biblioteca e as fun��es
from bokeh.plotting import figure, output_file, show

# Definir a sa�da do gr�fico, Plota o gr�fico na p�gina de um navegador. 
output_file("line.html")


# Define a largura e altura da �rea de plotagem do gr�fico com as fun��es width e height.
grafico = figure(plot_width=500, plot_height=500) 


# A fun��o line(), cria um gr�fico de linha com largura e cor da linha.
grafico.line([1,3,5], [7, 9, 11], line_width=2, color="blue")


# Exibe o gr�fico com a fun��o show()
show(grafico)

# Obs: um gr�fico de linha necessita de dois valores de entrada para os eixos x e y.