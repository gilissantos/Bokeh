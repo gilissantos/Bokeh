# Importando a biblioteca e fun��es
from bokeh.plotting import figure, output_file, show


# Criando a figura/�rea do gr�fico e formatando: t�tulo, eixos x e y.
grafico = figure(
    title="T�tulo do Gr�fico",
    x_axis_label="Eixo X",
    y_axis_label="Eixo Y"
)

# Exibe o gr�fico com a fun��o show():

show(grafico)